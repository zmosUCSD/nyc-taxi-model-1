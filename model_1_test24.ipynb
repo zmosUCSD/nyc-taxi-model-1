{
 "cells": [
  {
   "cell_type": "markdown",
   "id": "ed7596b7-47f4-40fd-b06a-9f6c8b33e478",
   "metadata": {},
   "source": [
    "## Libraries"
   ]
  },
  {
   "cell_type": "code",
   "execution_count": 1,
   "id": "3189b946-898a-44fe-a09c-922a4949c0b9",
   "metadata": {},
   "outputs": [
    {
     "name": "stderr",
     "output_type": "stream",
     "text": [
      "Matplotlib created a temporary cache directory at /scratch/zmosley/job_39783397/matplotlib-s70w5am9 because the default path (/home/jovyan/.cache/matplotlib) is not a writable directory; it is highly recommended to set the MPLCONFIGDIR environment variable to a writable directory, in particular to speed up the import of Matplotlib and to better support multiprocessing.\n"
     ]
    }
   ],
   "source": [
    "# Libraries\n",
    "import pandas as pd\n",
    "from glob import glob\n",
    "import matplotlib.pyplot as plt\n",
    "import seaborn as sns\n",
    "import numpy as np\n",
    "from pyspark.sql import SparkSession\n",
    "from pyspark.sql.functions import col, unix_timestamp, hour, dayofweek, month, when, udf, year, to_timestamp, avg, stddev, count\n",
    "from pyspark.sql import functions as F\n",
    "from pyspark.ml.feature import VectorAssembler\n",
    "from pyspark.ml.regression import LinearRegression\n",
    "from sklearn.metrics import mean_squared_error, mean_absolute_error, r2_score\n",
    "from pyspark.ml.evaluation import RegressionEvaluator\n",
    "from pyspark.ml.regression import GBTRegressor\n",
    "from pyspark.sql.types import StructType, StructField, FloatType, ArrayType, DoubleType\n",
    "from pyspark.ml.linalg import DenseVector, SparseVector\n",
    "import dask.dataframe as dd\n",
    "from lightgbm.dask import DaskLGBMRegressor\n",
    "from dask.distributed import Client, LocalCluster\n",
    "import joblib"
   ]
  },
  {
   "cell_type": "code",
   "execution_count": 2,
   "id": "93fade2e-4a12-41d3-a06e-a5597b574541",
   "metadata": {},
   "outputs": [],
   "source": [
    "spark = SparkSession.builder \\\n",
    "    .appName(\"NYC Taxi Full Dataset\") \\\n",
    "    .config(\"spark.executor.instances\", \"20\") \\\n",
    "    .config(\"spark.executor.cores\", \"4\") \\\n",
    "    .config(\"spark.executor.memory\", \"10g\") \\\n",
    "    .config(\"spark.driver.memory\", \"40g\") \\\n",
    "    .config(\"spark.driver.cores\", \"4\") \\\n",
    "    .config(\"spark.sql.shuffle.partitions\", \"300\") \\\n",
    "    .config(\"spark.sql.execution.arrow.pyspark.enabled\", \"false\") \\\n",
    "    .getOrCreate()"
   ]
  },
  {
   "cell_type": "markdown",
   "id": "75110b19-56ea-4536-b764-a87deaa7c043",
   "metadata": {},
   "source": [
    "## Import Data"
   ]
  },
  {
   "cell_type": "code",
   "execution_count": 3,
   "id": "1e828f69-5b85-4e64-9a44-726126d7fdf2",
   "metadata": {},
   "outputs": [],
   "source": [
    "# Import 5 years of NYC Yellow Taxi Data 2019-23 to predict 24\n",
    "base_path = \"/expanse/lustre/projects/uci150/rvasappanavara/shared/nyc_taxi_data/\"\n",
    "file_paths = sorted(glob(f\"{base_path}/yellow_tripdata_2019-*.parquet\") + \n",
    "                    glob(f\"{base_path}/yellow_tripdata_202[0-3]-*.parquet\"))\n",
    "\n",
    "# Fixes schema compatibility errors\n",
    "dfs = []\n",
    "for path in file_paths:\n",
    "    df = spark.read.parquet(f\"file://{path}\")\n",
    "    df = df.withColumn(\"airport_fee\", col(\"airport_fee\").cast(\"double\"))\n",
    "    dfs.append(df)\n",
    "\n",
    "raw_df = dfs[0]\n",
    "for other_df in dfs[1:]:\n",
    "    raw_df = raw_df.unionByName(other_df)"
   ]
  },
  {
   "cell_type": "code",
   "execution_count": 4,
   "id": "bc404dee-332e-4810-8b30-ebc38b8afdea",
   "metadata": {},
   "outputs": [
    {
     "name": "stdout",
     "output_type": "stream",
     "text": [
      "Rows: 174689444, Columns: 19\n"
     ]
    }
   ],
   "source": [
    "# Shape of df\n",
    "num_rows = raw_df.count()\n",
    "num_cols = len(raw_df.columns)\n",
    "print(f\"Rows: {num_rows}, Columns: {num_cols}\")"
   ]
  },
  {
   "cell_type": "code",
   "execution_count": 5,
   "id": "a902a14a-766a-4af9-a76d-ec7961f21446",
   "metadata": {},
   "outputs": [
    {
     "name": "stdout",
     "output_type": "stream",
     "text": [
      "root\n",
      " |-- VendorID: long (nullable = true)\n",
      " |-- tpep_pickup_datetime: timestamp_ntz (nullable = true)\n",
      " |-- tpep_dropoff_datetime: timestamp_ntz (nullable = true)\n",
      " |-- passenger_count: double (nullable = true)\n",
      " |-- trip_distance: double (nullable = true)\n",
      " |-- RatecodeID: double (nullable = true)\n",
      " |-- store_and_fwd_flag: string (nullable = true)\n",
      " |-- PULocationID: long (nullable = true)\n",
      " |-- DOLocationID: long (nullable = true)\n",
      " |-- payment_type: long (nullable = true)\n",
      " |-- fare_amount: double (nullable = true)\n",
      " |-- extra: double (nullable = true)\n",
      " |-- mta_tax: double (nullable = true)\n",
      " |-- tip_amount: double (nullable = true)\n",
      " |-- tolls_amount: double (nullable = true)\n",
      " |-- improvement_surcharge: double (nullable = true)\n",
      " |-- total_amount: double (nullable = true)\n",
      " |-- congestion_surcharge: double (nullable = true)\n",
      " |-- airport_fee: double (nullable = true)\n",
      "\n"
     ]
    }
   ],
   "source": [
    "raw_df.printSchema()"
   ]
  },
  {
   "cell_type": "code",
   "execution_count": 6,
   "id": "dbbc85a6-ab60-4ed2-8166-c58d055c4901",
   "metadata": {
    "scrolled": true
   },
   "outputs": [
    {
     "data": {
      "text/html": [
       "<div>\n",
       "<style scoped>\n",
       "    .dataframe tbody tr th:only-of-type {\n",
       "        vertical-align: middle;\n",
       "    }\n",
       "\n",
       "    .dataframe tbody tr th {\n",
       "        vertical-align: top;\n",
       "    }\n",
       "\n",
       "    .dataframe thead th {\n",
       "        text-align: right;\n",
       "    }\n",
       "</style>\n",
       "<table border=\"1\" class=\"dataframe\">\n",
       "  <thead>\n",
       "    <tr style=\"text-align: right;\">\n",
       "      <th></th>\n",
       "      <th>summary</th>\n",
       "      <th>VendorID</th>\n",
       "      <th>passenger_count</th>\n",
       "      <th>trip_distance</th>\n",
       "      <th>RatecodeID</th>\n",
       "      <th>store_and_fwd_flag</th>\n",
       "      <th>PULocationID</th>\n",
       "      <th>DOLocationID</th>\n",
       "      <th>payment_type</th>\n",
       "      <th>fare_amount</th>\n",
       "      <th>extra</th>\n",
       "      <th>mta_tax</th>\n",
       "      <th>tip_amount</th>\n",
       "      <th>tolls_amount</th>\n",
       "      <th>improvement_surcharge</th>\n",
       "      <th>total_amount</th>\n",
       "      <th>congestion_surcharge</th>\n",
       "      <th>airport_fee</th>\n",
       "    </tr>\n",
       "  </thead>\n",
       "  <tbody>\n",
       "    <tr>\n",
       "      <th>0</th>\n",
       "      <td>count</td>\n",
       "      <td>174689444</td>\n",
       "      <td>165631891</td>\n",
       "      <td>174689444</td>\n",
       "      <td>165631891</td>\n",
       "      <td>165631891</td>\n",
       "      <td>174689444</td>\n",
       "      <td>174689444</td>\n",
       "      <td>174689444</td>\n",
       "      <td>174689444</td>\n",
       "      <td>174689444</td>\n",
       "      <td>174689444</td>\n",
       "      <td>174689444</td>\n",
       "      <td>174689444</td>\n",
       "      <td>174689444</td>\n",
       "      <td>174689444</td>\n",
       "      <td>165631891</td>\n",
       "      <td>137630064</td>\n",
       "    </tr>\n",
       "    <tr>\n",
       "      <th>1</th>\n",
       "      <td>mean</td>\n",
       "      <td>1.728645086305272</td>\n",
       "      <td>1.3935332296604643</td>\n",
       "      <td>5.1446748564266676</td>\n",
       "      <td>1.5601603377214355</td>\n",
       "      <td>None</td>\n",
       "      <td>164.67229989580824</td>\n",
       "      <td>162.84312092721527</td>\n",
       "      <td>1.175978652722714</td>\n",
       "      <td>15.354019532862086</td>\n",
       "      <td>1.2331987166894938</td>\n",
       "      <td>0.4899774909123896</td>\n",
       "      <td>3.9023754576153094</td>\n",
       "      <td>0.49543407625804675</td>\n",
       "      <td>0.6080710715487009</td>\n",
       "      <td>23.804703894103447</td>\n",
       "      <td>2.2665264681425388</td>\n",
       "      <td>0.11753790908649145</td>\n",
       "    </tr>\n",
       "    <tr>\n",
       "      <th>2</th>\n",
       "      <td>stddev</td>\n",
       "      <td>0.47453200484085584</td>\n",
       "      <td>0.9545513003212337</td>\n",
       "      <td>486.7041362446293</td>\n",
       "      <td>6.9140250671915435</td>\n",
       "      <td>None</td>\n",
       "      <td>65.19928578808438</td>\n",
       "      <td>70.21261088267867</td>\n",
       "      <td>0.5658858442809493</td>\n",
       "      <td>10639.3136925125</td>\n",
       "      <td>37.869664054595816</td>\n",
       "      <td>37.830169019931056</td>\n",
       "      <td>10638.322148574376</td>\n",
       "      <td>2.0365973061050298</td>\n",
       "      <td>0.3718933443586478</td>\n",
       "      <td>163.94872128117464</td>\n",
       "      <td>0.786779673736705</td>\n",
       "      <td>0.418815352831339</td>\n",
       "    </tr>\n",
       "    <tr>\n",
       "      <th>3</th>\n",
       "      <td>min</td>\n",
       "      <td>1</td>\n",
       "      <td>0.0</td>\n",
       "      <td>-30.62</td>\n",
       "      <td>1.0</td>\n",
       "      <td>N</td>\n",
       "      <td>1</td>\n",
       "      <td>1</td>\n",
       "      <td>0</td>\n",
       "      <td>-1.33391414E8</td>\n",
       "      <td>-39.17</td>\n",
       "      <td>-0.55</td>\n",
       "      <td>-493.22</td>\n",
       "      <td>-140.63</td>\n",
       "      <td>-1.0</td>\n",
       "      <td>-2567.8</td>\n",
       "      <td>-2.5</td>\n",
       "      <td>-1.75</td>\n",
       "    </tr>\n",
       "    <tr>\n",
       "      <th>4</th>\n",
       "      <td>25%</td>\n",
       "      <td>1</td>\n",
       "      <td>1.0</td>\n",
       "      <td>1.05</td>\n",
       "      <td>1.0</td>\n",
       "      <td>None</td>\n",
       "      <td>132</td>\n",
       "      <td>113</td>\n",
       "      <td>1</td>\n",
       "      <td>7.5</td>\n",
       "      <td>0.0</td>\n",
       "      <td>0.5</td>\n",
       "      <td>0.0</td>\n",
       "      <td>0.0</td>\n",
       "      <td>0.3</td>\n",
       "      <td>13.08</td>\n",
       "      <td>2.5</td>\n",
       "      <td>0.0</td>\n",
       "    </tr>\n",
       "    <tr>\n",
       "      <th>5</th>\n",
       "      <td>50%</td>\n",
       "      <td>2</td>\n",
       "      <td>1.0</td>\n",
       "      <td>1.8</td>\n",
       "      <td>1.0</td>\n",
       "      <td>None</td>\n",
       "      <td>162</td>\n",
       "      <td>162</td>\n",
       "      <td>1</td>\n",
       "      <td>11.4</td>\n",
       "      <td>0.5</td>\n",
       "      <td>0.5</td>\n",
       "      <td>2.25</td>\n",
       "      <td>0.0</td>\n",
       "      <td>0.3</td>\n",
       "      <td>17.76</td>\n",
       "      <td>2.5</td>\n",
       "      <td>0.0</td>\n",
       "    </tr>\n",
       "    <tr>\n",
       "      <th>6</th>\n",
       "      <td>75%</td>\n",
       "      <td>2</td>\n",
       "      <td>1.0</td>\n",
       "      <td>3.35</td>\n",
       "      <td>1.0</td>\n",
       "      <td>None</td>\n",
       "      <td>234</td>\n",
       "      <td>234</td>\n",
       "      <td>1</td>\n",
       "      <td>18.5</td>\n",
       "      <td>2.5</td>\n",
       "      <td>0.5</td>\n",
       "      <td>3.66</td>\n",
       "      <td>0.0</td>\n",
       "      <td>1.0</td>\n",
       "      <td>26.04</td>\n",
       "      <td>2.5</td>\n",
       "      <td>0.0</td>\n",
       "    </tr>\n",
       "    <tr>\n",
       "      <th>7</th>\n",
       "      <td>max</td>\n",
       "      <td>7</td>\n",
       "      <td>112.0</td>\n",
       "      <td>398608.62</td>\n",
       "      <td>99.0</td>\n",
       "      <td>Y</td>\n",
       "      <td>265</td>\n",
       "      <td>265</td>\n",
       "      <td>5</td>\n",
       "      <td>998310.03</td>\n",
       "      <td>500000.8</td>\n",
       "      <td>500000.5</td>\n",
       "      <td>1.3339136353E8</td>\n",
       "      <td>1702.88</td>\n",
       "      <td>2.0</td>\n",
       "      <td>1000003.8</td>\n",
       "      <td>3.0</td>\n",
       "      <td>1.75</td>\n",
       "    </tr>\n",
       "  </tbody>\n",
       "</table>\n",
       "</div>"
      ],
      "text/plain": [
       "  summary             VendorID     passenger_count       trip_distance  \\\n",
       "0   count            174689444           165631891           174689444   \n",
       "1    mean    1.728645086305272  1.3935332296604643  5.1446748564266676   \n",
       "2  stddev  0.47453200484085584  0.9545513003212337   486.7041362446293   \n",
       "3     min                    1                 0.0              -30.62   \n",
       "4     25%                    1                 1.0                1.05   \n",
       "5     50%                    2                 1.0                 1.8   \n",
       "6     75%                    2                 1.0                3.35   \n",
       "7     max                    7               112.0           398608.62   \n",
       "\n",
       "           RatecodeID store_and_fwd_flag        PULocationID  \\\n",
       "0           165631891          165631891           174689444   \n",
       "1  1.5601603377214355               None  164.67229989580824   \n",
       "2  6.9140250671915435               None   65.19928578808438   \n",
       "3                 1.0                  N                   1   \n",
       "4                 1.0               None                 132   \n",
       "5                 1.0               None                 162   \n",
       "6                 1.0               None                 234   \n",
       "7                99.0                  Y                 265   \n",
       "\n",
       "         DOLocationID        payment_type         fare_amount  \\\n",
       "0           174689444           174689444           174689444   \n",
       "1  162.84312092721527   1.175978652722714  15.354019532862086   \n",
       "2   70.21261088267867  0.5658858442809493    10639.3136925125   \n",
       "3                   1                   0       -1.33391414E8   \n",
       "4                 113                   1                 7.5   \n",
       "5                 162                   1                11.4   \n",
       "6                 234                   1                18.5   \n",
       "7                 265                   5           998310.03   \n",
       "\n",
       "                extra             mta_tax          tip_amount  \\\n",
       "0           174689444           174689444           174689444   \n",
       "1  1.2331987166894938  0.4899774909123896  3.9023754576153094   \n",
       "2  37.869664054595816  37.830169019931056  10638.322148574376   \n",
       "3              -39.17               -0.55             -493.22   \n",
       "4                 0.0                 0.5                 0.0   \n",
       "5                 0.5                 0.5                2.25   \n",
       "6                 2.5                 0.5                3.66   \n",
       "7            500000.8            500000.5      1.3339136353E8   \n",
       "\n",
       "          tolls_amount improvement_surcharge        total_amount  \\\n",
       "0            174689444             174689444           174689444   \n",
       "1  0.49543407625804675    0.6080710715487009  23.804703894103447   \n",
       "2   2.0365973061050298    0.3718933443586478  163.94872128117464   \n",
       "3              -140.63                  -1.0             -2567.8   \n",
       "4                  0.0                   0.3               13.08   \n",
       "5                  0.0                   0.3               17.76   \n",
       "6                  0.0                   1.0               26.04   \n",
       "7              1702.88                   2.0           1000003.8   \n",
       "\n",
       "  congestion_surcharge          airport_fee  \n",
       "0            165631891            137630064  \n",
       "1   2.2665264681425388  0.11753790908649145  \n",
       "2    0.786779673736705    0.418815352831339  \n",
       "3                 -2.5                -1.75  \n",
       "4                  2.5                  0.0  \n",
       "5                  2.5                  0.0  \n",
       "6                  2.5                  0.0  \n",
       "7                  3.0                 1.75  "
      ]
     },
     "metadata": {},
     "output_type": "display_data"
    }
   ],
   "source": [
    "summary_df = raw_df.summary()\n",
    "raw_summary = summary_df.toPandas()\n",
    "display(raw_summary)"
   ]
  },
  {
   "cell_type": "code",
   "execution_count": null,
   "id": "e3fd4dac-53dc-46a5-ab91-3b05a5d7d9c9",
   "metadata": {},
   "outputs": [],
   "source": []
  },
  {
   "cell_type": "markdown",
   "id": "16af4163-11d0-43c4-a28a-d7dc4f36a866",
   "metadata": {},
   "source": [
    "# **Preprocessing**"
   ]
  },
  {
   "cell_type": "code",
   "execution_count": 4,
   "id": "4da29993-b2cd-4649-9c87-c9aca21b2d83",
   "metadata": {},
   "outputs": [],
   "source": [
    "df = raw_df"
   ]
  },
  {
   "cell_type": "markdown",
   "id": "315bc74f-d25f-483b-bfe0-666bad9ce4c4",
   "metadata": {},
   "source": [
    "### fare_amount"
   ]
  },
  {
   "cell_type": "code",
   "execution_count": 5,
   "id": "174f90ce-d59b-4a15-999a-5c3ea43ca66b",
   "metadata": {},
   "outputs": [
    {
     "name": "stdout",
     "output_type": "stream",
     "text": [
      "Zero or negative fares: 1126335\n",
      "Fares < $3: 1928445\n",
      "Fares > $100: 297327\n",
      "Fares > $200: 36235\n"
     ]
    }
   ],
   "source": [
    "# Examining possible outlier fares\n",
    "print(\"Zero or negative fares:\", df.filter(col(\"fare_amount\") <= 0).count())\n",
    "print(\"Fares < $3:\", df.filter(col(\"fare_amount\") < 3).count())\n",
    "print(\"Fares > $100:\", df.filter(col(\"fare_amount\") > 100).count())\n",
    "print(\"Fares > $200:\", df.filter(col(\"fare_amount\") > 200).count())"
   ]
  },
  {
   "cell_type": "markdown",
   "id": "749351bd-930b-431d-9daa-5829009dbd99",
   "metadata": {},
   "source": [
    "#### Standard City Rate, \\$3 initial charge\n",
    "##### source: https://portal.311.nyc.gov/article/?kanumber=KA-01245\n",
    "#### Remove fares below $3, as this is the minimum charge, and exclude outliers with fares above 200 dollars."
   ]
  },
  {
   "cell_type": "code",
   "execution_count": 6,
   "id": "d1681305-188f-4cad-9555-b6e5b5691ea2",
   "metadata": {},
   "outputs": [],
   "source": [
    "# Removing outliers, keeping fares between $3-$200\n",
    "df = df.filter((col(\"fare_amount\") >= 3) & (col(\"fare_amount\") <= 200))"
   ]
  },
  {
   "cell_type": "markdown",
   "id": "6a1b7db7-e25d-40ec-9c54-873765b0a20e",
   "metadata": {},
   "source": [
    "### Scatterplot of fare distribution"
   ]
  },
  {
   "cell_type": "code",
   "execution_count": null,
   "id": "190adaea-9660-47d3-a6ca-bec2ce1f168b",
   "metadata": {},
   "outputs": [],
   "source": [
    "# Using 5% sample of data\n",
    "scatterplot_sample = df.select(\"fare_amount\").sample(fraction=0.1, seed=2).toPandas()\n",
    "\n",
    "sns.histplot(scatterplot_sample[\"fare_amount\"], bins=100)\n",
    "plt.xlim(3, 200)  \n",
    "plt.yscale(\"log\")  # Log scale  to show more \n",
    "plt.title(\"Fare Amount Distribution (Log-Scaled), 10% Sample\")\n",
    "plt.show()"
   ]
  },
  {
   "cell_type": "markdown",
   "id": "3e4a4563-8ce8-4d08-8bf0-a7165a869fb9",
   "metadata": {},
   "source": [
    "#### Most of the fare spikes occur at round numbers, with the largest at $70.\n",
    "\n",
    "#### After some research, its very common to charge flat rates on standard trips like to the airport. Specifically to JFK is $70.\n",
    "\n",
    "#### \"John F. Kennedy Airport (JFK), To or from Manhattan (Rate Code 2), \\$70 'Flat Fare.'\"\n",
    "##### source: https://portal.311.nyc.gov/article/?kanumber=KA-01245"
   ]
  },
  {
   "cell_type": "code",
   "execution_count": null,
   "id": "ac40e75e-c0c4-4196-b44a-fa33c8f12eaa",
   "metadata": {},
   "outputs": [],
   "source": []
  },
  {
   "cell_type": "markdown",
   "id": "216f6840-5780-46ae-8079-250c76fd9ac8",
   "metadata": {},
   "source": [
    "### Extracting time based columns"
   ]
  },
  {
   "cell_type": "code",
   "execution_count": 7,
   "id": "737ca13c-960b-458f-a516-1bbf92b052c7",
   "metadata": {},
   "outputs": [],
   "source": [
    "# Trip time in minutes\n",
    "df = df.withColumn(\"trip_time_minutes\", (unix_timestamp(\"tpep_dropoff_datetime\") - \n",
    "                                         unix_timestamp(\"tpep_pickup_datetime\")) / 60)\n",
    "# Fare per minute\n",
    "df = df.withColumn(\"fare_per_min\", col(\"fare_amount\") / col(\"trip_time_minutes\"))\n",
    "# Fare per mile\n",
    "df = df.withColumn(\"fare_per_mile\", col(\"fare_amount\") / col(\"trip_distance\"))"
   ]
  },
  {
   "cell_type": "code",
   "execution_count": 8,
   "id": "0a019aa6-95c9-43a6-9794-4ee3c3c54d99",
   "metadata": {},
   "outputs": [],
   "source": [
    "df = df.withColumn(\"hour\", hour(col(\"tpep_pickup_datetime\"))) \\\n",
    "       .withColumn(\"dayofweek\", dayofweek(col(\"tpep_pickup_datetime\")) - 2) \\\n",
    "       .withColumn(\"month\", month(col(\"tpep_pickup_datetime\")))"
   ]
  },
  {
   "cell_type": "code",
   "execution_count": null,
   "id": "0b5765b0-0459-46c6-9f2f-c29bee73cbb2",
   "metadata": {},
   "outputs": [],
   "source": []
  },
  {
   "cell_type": "markdown",
   "id": "8cc3acda-b85b-4925-bed7-e91aea0a578d",
   "metadata": {},
   "source": [
    "### Passenger Count\n",
    "\n",
    "#### \"Maximum Number of Passengers - The maximum number of passengers allowed in a yellow taxicab by law is 4 in a 4-passenger taxicab or 5 in a 5-passenger taxicab.\"\n",
    "##### https://portal.311.nyc.gov/article/?kanumber=KA-01245"
   ]
  },
  {
   "cell_type": "code",
   "execution_count": 9,
   "id": "37378965-cdc1-4285-9c7b-808597b84d06",
   "metadata": {},
   "outputs": [],
   "source": [
    "# Filter for 1-5 passengers. 4 or 5 is max allowed by taxi law in NYC\n",
    "df = df.withColumn(\"passenger_count\", when(col(\"passenger_count\") < 1, 1)\n",
    "    .when(col(\"passenger_count\") > 5, 5).otherwise(col(\"passenger_count\")))"
   ]
  },
  {
   "cell_type": "code",
   "execution_count": null,
   "id": "d2647c8f-6550-4c1b-ba48-8daac1e6a285",
   "metadata": {},
   "outputs": [],
   "source": []
  },
  {
   "cell_type": "markdown",
   "id": "e86b1815-95fb-49ff-a9e6-52f5462545d5",
   "metadata": {},
   "source": [
    "### Trip Distance \n",
    "\n",
    "#### \"Standard City Rate, 70 cents for every 1/5 of a mile when traveling above 12 miles per hour or per 60 seconds in slow traffic or when the vehicle is stopped.\"\n",
    "##### source: https://portal.311.nyc.gov/article/?kanumber=KA-01245"
   ]
  },
  {
   "cell_type": "code",
   "execution_count": null,
   "id": "feebee6e-4c6e-48b0-ad45-93d9f1fbe149",
   "metadata": {},
   "outputs": [],
   "source": [
    "# Filtering sampled data for trip distance ranges\n",
    "mile_0_1 = df.filter((col(\"trip_distance\") >= 0) & (col(\"trip_distance\") <= 1)) \\\n",
    "             .select(\"trip_distance\").sample(fraction=0.1).toPandas()\n",
    "mile_1_2 = df.filter((col(\"trip_distance\") > 1) & (col(\"trip_distance\") <= 2)) \\\n",
    "             .select(\"trip_distance\").sample(fraction=0.1).toPandas()\n",
    "mile_2_3 = df.filter((col(\"trip_distance\") > 2) & (col(\"trip_distance\") <= 3)) \\\n",
    "             .select(\"trip_distance\").sample(fraction=0.1).toPandas()\n",
    "mile_3_plus = df.filter((col(\"trip_distance\") > 3) & (col(\"trip_distance\") <= 35)) \\\n",
    "                .select(\"trip_distance\").sample(fraction=0.1).toPandas()\n",
    "\n",
    "# Histogram of Trip Distance by Mile\n",
    "fig, axes = plt.subplots(2, 2, figsize=(14, 10))\n",
    "fig.suptitle(\"Trip Distance Distributions by Mile, 10% Sample\", fontsize=16)\n",
    "\n",
    "# 0–1 mile\n",
    "sns.histplot(mile_0_1[\"trip_distance\"], bins=10, ax=axes[0, 0])\n",
    "axes[0, 0].set_title(\"0 - 1 Mile\")\n",
    "axes[0, 0].set_xlabel(\"Trip Distance\")\n",
    "axes[0, 0].set_ylabel(\"Count\")\n",
    "\n",
    "# 1–2 miles\n",
    "sns.histplot(mile_1_2[\"trip_distance\"], bins=10, ax=axes[0, 1])\n",
    "axes[0, 1].set_title(\"1 - 2 Miles\")\n",
    "axes[0, 1].set_xlabel(\"Trip Distance\")\n",
    "axes[0, 1].set_ylabel(\"Count\")\n",
    "\n",
    "# 2–3 miles\n",
    "sns.histplot(mile_2_3[\"trip_distance\"], bins=10, ax=axes[1, 0])\n",
    "axes[1, 0].set_title(\"2 - 3 Miles\")\n",
    "axes[1, 0].set_xlabel(\"Trip Distance\")\n",
    "axes[1, 0].set_ylabel(\"Count\")\n",
    "\n",
    "# 3+ miles\n",
    "sns.histplot(mile_3_plus[\"trip_distance\"], bins=32, ax=axes[1, 1])\n",
    "axes[1, 1].set_title(\"3+ Miles\")\n",
    "axes[1, 1].set_xlabel(\"Trip Distance\")\n",
    "axes[1, 1].set_ylabel(\"Count\")\n",
    "axes[1, 1].set_xlim(3, 35)\n",
    "\n",
    "plt.tight_layout(rect=[0, 0, 1, 0.96])  \n",
    "plt.show()"
   ]
  },
  {
   "cell_type": "markdown",
   "id": "7b27900d-0416-408f-877a-2f02efea132d",
   "metadata": {},
   "source": [
    "#### Most trips are short distances. The standard rate (ratecode = 1) is for NYC county only. Filtering for trips > 0 and <= 35 miles as the distance of NYC is approx 35 miles. \n",
    "- \"...the longest distance between its boundaries, from the northeast to the southwest, is about 35 miles.\"\n",
    "##### source: https://www.takewalks.com/blog/nyc-by-the-numbers#:~:text=The%20total%20area%20of%20the,Staten%20Island%20and%20Long%20Island."
   ]
  },
  {
   "cell_type": "code",
   "execution_count": 10,
   "id": "38c54356-c624-4c31-b010-64f1d6801dee",
   "metadata": {},
   "outputs": [],
   "source": [
    "# Filter Trip Distance\n",
    "df = df.filter((col(\"trip_distance\") > 0) & (col(\"trip_distance\") <= 35))"
   ]
  },
  {
   "cell_type": "code",
   "execution_count": null,
   "id": "1a992025-bd48-4366-991f-83e6e20ed5ea",
   "metadata": {},
   "outputs": [],
   "source": []
  },
  {
   "cell_type": "markdown",
   "id": "a02eaf52-e254-46a8-98ac-8868409e4007",
   "metadata": {},
   "source": [
    "### RatecodeID"
   ]
  },
  {
   "cell_type": "code",
   "execution_count": 11,
   "id": "4ab9660a-a747-4f68-bd30-31447b49f3d1",
   "metadata": {},
   "outputs": [
    {
     "name": "stdout",
     "output_type": "stream",
     "text": [
      "Metered fare rides (RatecodeID == 1): 201,273,930\n",
      "Percentage of rides (RatecodeID == 1): 94.08%\n"
     ]
    }
   ],
   "source": [
    "ratecode_counts = df.groupBy(\"RatecodeID\").count()\n",
    "\n",
    "metered_row = ratecode_counts.filter(col(\"RatecodeID\") == 1).collect()[0]\n",
    "metered_count = metered_row[\"count\"]\n",
    "\n",
    "total_count = ratecode_counts.agg({\"count\": \"sum\"}).collect()[0][0]\n",
    "\n",
    "print(f\"Metered fare rides (RatecodeID == 1): {metered_count:,}\")\n",
    "print(f\"Percentage of rides (RatecodeID == 1): {metered_count / total_count:.2%}\")"
   ]
  },
  {
   "cell_type": "markdown",
   "id": "299e8520-657c-4086-ad55-aabeb3ced041",
   "metadata": {},
   "source": [
    "#### Focusing on `RateCodeID = 1`, which represents standard metered fares—these account for approximately 90% of all rides. Other rate codes, such as 2 and 3, correspond to flat fares and negotiated rates.\n",
    "\n",
    "##### source: https://portal.311.nyc.gov/article/?kanumber=KA-01245\n",
    "\n",
    "##### Below are the rate codes and their meaning. \n",
    "###### 1= Standard rate\n",
    "###### 2=JFK (flat rate)\n",
    "###### 3=Newark (typically flat rate)\n",
    "###### 4=Nassau or Westchester (flat rate or negotiated)\n",
    "###### 5=Negotiated fare\n",
    "###### 6=Group ride"
   ]
  },
  {
   "cell_type": "code",
   "execution_count": 12,
   "id": "3d886e98-3d02-4dbe-a9e0-515961e788b2",
   "metadata": {},
   "outputs": [],
   "source": [
    "# Filtering to RatecodeID == 1\n",
    "df = df.filter(col(\"RatecodeID\") == 1)"
   ]
  },
  {
   "cell_type": "code",
   "execution_count": null,
   "id": "58f9fccb-ba1d-40e9-a505-8831b23b03a3",
   "metadata": {},
   "outputs": [],
   "source": []
  },
  {
   "cell_type": "markdown",
   "id": "75218f57-7828-49e3-8e25-e7d3052f15a8",
   "metadata": {},
   "source": [
    "### Toll Amount\n",
    "\n",
    "#### $20 is the most expensive toll in NYC\n",
    "##### source: https://pix11.com/news/transit/what-is-the-most-expensive-toll-in-ny/"
   ]
  },
  {
   "cell_type": "code",
   "execution_count": 13,
   "id": "221ebfb4-c745-45dd-be0e-12c35ec188eb",
   "metadata": {},
   "outputs": [],
   "source": [
    "# Filter for outlier, allow up to $50 to account for multiple tolls on one trip\n",
    "df = df.filter((df.tolls_amount >= 0) & (df.tolls_amount <= 50))\n"
   ]
  },
  {
   "cell_type": "code",
   "execution_count": null,
   "id": "9d4ad7ad-01e1-42e9-b999-2fde69a38524",
   "metadata": {},
   "outputs": [],
   "source": []
  },
  {
   "cell_type": "markdown",
   "id": "f4699c28-7fed-4857-a34a-872eb2eb8c1e",
   "metadata": {},
   "source": [
    "### Date"
   ]
  },
  {
   "cell_type": "code",
   "execution_count": 14,
   "id": "a94ad49e-9d1e-4292-9376-1f58a6659cf6",
   "metadata": {},
   "outputs": [],
   "source": [
    "# Filter years to ensure only data from 2019-2023 is used\n",
    "df = df.withColumn(\"tpep_pickup_datetime\", to_timestamp(col(\"tpep_pickup_datetime\")))\n",
    "df = df.filter((year(\"tpep_pickup_datetime\") >= 2019) & \n",
    "               (year(\"tpep_pickup_datetime\") <= 2023))"
   ]
  },
  {
   "cell_type": "code",
   "execution_count": null,
   "id": "064b4629-6be6-49af-8627-b549efef8562",
   "metadata": {},
   "outputs": [],
   "source": []
  },
  {
   "cell_type": "markdown",
   "id": "150bd742-f64f-4e7c-9909-6675a768a939",
   "metadata": {},
   "source": [
    "### Features"
   ]
  },
  {
   "cell_type": "code",
   "execution_count": 13,
   "id": "047b9927-35cb-423d-89cf-fa2feb1fd6f7",
   "metadata": {},
   "outputs": [
    {
     "name": "stdout",
     "output_type": "stream",
     "text": [
      "Correlation with fare_amount, 10% Sample:\n",
      "fare_amount             1.000000\n",
      "trip_distance           0.918659\n",
      "tip_amount              0.558088\n",
      "tolls_amount            0.473462\n",
      "month                   0.050756\n",
      "fare_per_min            0.010222\n",
      "hour                    0.009941\n",
      "passenger_count         0.003325\n",
      "trip_time_minutes       0.001474\n",
      "dayofweek              -0.011765\n",
      "payment_type           -0.012732\n",
      "PULocationID           -0.094751\n",
      "fare_per_mile          -0.096653\n",
      "DOLocationID           -0.105340\n",
      "congestion_surcharge   -0.291465\n",
      "Name: fare_amount, dtype: float64\n"
     ]
    }
   ],
   "source": [
    "# Correlation with fare amount\n",
    "\n",
    "columns = [\"trip_distance\",\n",
    "           \"trip_time_minutes\",\n",
    "           \"fare_per_min\",\n",
    "           \"fare_per_mile\",\n",
    "           \"passenger_count\",\n",
    "           \"hour\",\n",
    "           \"dayofweek\",\n",
    "           \"month\",\n",
    "           \"payment_type\",\n",
    "           \"congestion_surcharge\",\n",
    "           \"tolls_amount\",\n",
    "           \"PULocationID\",\n",
    "           \"DOLocationID\",\n",
    "           \"tip_amount\",\n",
    "           \"fare_amount\"] # Target column for sampling\n",
    "    \n",
    "# Sampling 10%\n",
    "corr_df = df.select(columns).sample(fraction=0.1, seed=2).toPandas()\n",
    "\n",
    "fare_corr = corr_df.corr(numeric_only=True)[\"fare_amount\"].sort_values(ascending=False)\n",
    "print(\"Correlation with fare_amount, 10% Sample:\")\n",
    "print(fare_corr)"
   ]
  },
  {
   "cell_type": "markdown",
   "id": "2b80932f-ab99-4dcb-a609-dfb277d4933c",
   "metadata": {},
   "source": [
    "#### `trip_distance`, `tip_amount` and `tolls_amount` all have strong to moderate correlations to fare_amount. \n",
    "#### Tip amount will be excluded since it’s only known after the ride concludes and is discretionary. Our goal is to predict the fare amount, not the fare plus tip. \n",
    "#### Despite low correlation, `trip_in_minutes` significantly reduces RMSE—by more than half—likely because fares are partially based on ride duration, with riders charged per minute. \n",
    "#### \"70 cents for every 1/5 of a mile when traveling above 12 miles per hour or per 60 seconds in slow traffic or when the vehicle is stopped\"\n",
    "##### source: https://portal.311.nyc.gov/article/?kanumber=KA-01245"
   ]
  },
  {
   "cell_type": "code",
   "execution_count": 15,
   "id": "1c351595-56be-4358-9504-ce9afe2afea3",
   "metadata": {},
   "outputs": [
    {
     "name": "stdout",
     "output_type": "stream",
     "text": [
      "Rows with zero trip_time_minutes: 4284\n"
     ]
    }
   ],
   "source": [
    "zero_trip_time_count = df.filter(col(\"trip_time_minutes\") == 0).count()\n",
    "print(f\"Rows with zero trip_time_minutes: {zero_trip_time_count}\")"
   ]
  },
  {
   "cell_type": "code",
   "execution_count": 16,
   "id": "0bc84409-6358-46ce-9f35-0eeaf3a9f285",
   "metadata": {},
   "outputs": [],
   "source": [
    "# Filter extreme outliers for trip_time_minutes and tolls_amount\n",
    "\n",
    "df = df.filter((col(\"trip_time_minutes\") > 0) & (col(\"trip_time_minutes\") <= 1500) "
   ]
  },
  {
   "cell_type": "markdown",
   "id": "92a4f6a8-735b-4e2b-81b5-080d92567734",
   "metadata": {},
   "source": [
    "#### Residual analysis during testing revealed that most trips were under 300 minutes, with only a few extreme outliers. This confirms that our preprocessing steps preserved the majority of the data. Shown below:"
   ]
  },
  {
   "cell_type": "code",
   "execution_count": null,
   "id": "6fa1ec83-8c0c-4eaf-a5e6-18f19fb4dfa6",
   "metadata": {},
   "outputs": [],
   "source": []
  },
  {
   "cell_type": "markdown",
   "id": "ac073d2e-494d-477f-9246-4994102207c2",
   "metadata": {},
   "source": [
    "### Data remaining after processing"
   ]
  },
  {
   "cell_type": "code",
   "execution_count": 17,
   "id": "57c3a8e6-feb4-4962-b869-45ba6f26a945",
   "metadata": {},
   "outputs": [
    {
     "name": "stdout",
     "output_type": "stream",
     "text": [
      "Original row count: 218118168\n",
      "Filtered row count: 201263804\n",
      "\n",
      "Percentage of data retained: 92.27%\n"
     ]
    }
   ],
   "source": [
    "original_count = raw_df.count() \n",
    "filtered_count = df.count()\n",
    "percent_remaining = (filtered_count / original_count) * 100\n",
    "\n",
    "print(f\"Original row count: {original_count}\")\n",
    "print(f\"Filtered row count: {filtered_count}\")\n",
    "print(f\"\\nPercentage of data retained: {percent_remaining:.2f}%\")"
   ]
  },
  {
   "cell_type": "code",
   "execution_count": null,
   "id": "14c5c847-4294-42d9-88b3-8979dcbca6ca",
   "metadata": {},
   "outputs": [],
   "source": []
  },
  {
   "cell_type": "markdown",
   "id": "0628a1bb-adf9-40a8-b432-cb8e2926fd52",
   "metadata": {},
   "source": [
    "# **Train Model**"
   ]
  },
  {
   "cell_type": "markdown",
   "id": "75450472-8a53-4a9a-be86-f2f7e662d56c",
   "metadata": {},
   "source": [
    "### Process and Split Data"
   ]
  },
  {
   "cell_type": "code",
   "execution_count": 18,
   "id": "24bf8f05-0cfb-4b94-a642-c7f8ea1bc560",
   "metadata": {},
   "outputs": [],
   "source": [
    "# Saving df to parquet file\n",
    "df.select(\"trip_distance\", \"trip_time_minutes\", \"tolls_amount\",  \"hour\", \"fare_amount\", \"tpep_pickup_datetime\") \\\n",
    "  .write.mode(\"overwrite\").parquet(\"/expanse/lustre/projects/uci150/zmosley/test_lgb_input_data/\")"
   ]
  },
  {
   "cell_type": "code",
   "execution_count": 19,
   "id": "49924ae1-5419-4674-ac92-d38d409df5de",
   "metadata": {},
   "outputs": [],
   "source": [
    "# Dask cluster \n",
    "cluster = LocalCluster(n_workers=15,               \n",
    "                       threads_per_worker=4,  # 15 × 4 = 60 cores\n",
    "                       memory_limit=\"12GB\")   # 15 × 12 = 180GB\n",
    "client = Client(cluster)"
   ]
  },
  {
   "cell_type": "code",
   "execution_count": 20,
   "id": "6ffd327c-44a4-4c76-9b2d-ee01c3eec09d",
   "metadata": {},
   "outputs": [],
   "source": [
    "# Load saved parquet\n",
    "ddf = dd.read_parquet(\"/expanse/lustre/projects/uci150/zmosley/test_lgb_input_data/\")\n",
    "\n",
    "def add_split(pdf, seed=2):\n",
    "    rng = np.random.default_rng(seed)\n",
    "    pdf[\"split\"] = rng.random(len(pdf))\n",
    "    return pdf\n",
    "\n",
    "split_df = ddf.map_partitions(add_split)\n",
    "\n",
    "# Split data 80/20\n",
    "train_df = split_df[split_df[\"split\"] <= 0.8].drop(columns=\"split\")\n",
    "test_df = split_df[split_df[\"split\"] > 0.8].drop(columns=\"split\")\n",
    "\n",
    "features = [\"trip_distance\", \"trip_time_minutes\", \"tolls_amount\",  \"hour\"]\n",
    "target = \"fare_amount\"\n",
    "\n",
    "train_ = train_df[features + [target, \"tpep_pickup_datetime\"]]\n",
    "test_ = test_df[features + [target, \"tpep_pickup_datetime\"]]\n",
    "\n",
    "X_train = train_[features]\n",
    "y_train = train_[target]\n",
    "\n",
    "X_test = test_[features]\n",
    "y_test = test_[target]"
   ]
  },
  {
   "cell_type": "code",
   "execution_count": 21,
   "id": "0dbba352-0504-4eec-b4bc-fbdc52f9ffa7",
   "metadata": {},
   "outputs": [
    {
     "name": "stdout",
     "output_type": "stream",
     "text": [
      "X_train partitions: 74\n",
      "y_train partitions: 74\n",
      "X_train rows: 160960503\n",
      "y_train rows: 160960503\n"
     ]
    }
   ],
   "source": [
    "print(\"X_train partitions:\", X_train.npartitions)\n",
    "print(\"y_train partitions:\", y_train.npartitions)\n",
    "\n",
    "print(\"X_train rows:\", X_train.shape[0].compute())\n",
    "print(\"y_train rows:\", y_train.shape[0].compute())"
   ]
  },
  {
   "cell_type": "code",
   "execution_count": 22,
   "id": "f9053110-3350-48de-9893-0f129cb5e38a",
   "metadata": {},
   "outputs": [],
   "source": [
    "# Evaluators\n",
    "evaluator_rmse = RegressionEvaluator(labelCol=\"fare_amount\", \n",
    "                                     predictionCol=\"prediction\", \n",
    "                                     metricName=\"rmse\")\n",
    "evaluator_mae = RegressionEvaluator(labelCol=\"fare_amount\", \n",
    "                                    predictionCol=\"prediction\", \n",
    "                                    metricName=\"mae\")\n",
    "evaluator_r2 = RegressionEvaluator(labelCol=\"fare_amount\", \n",
    "                                   predictionCol=\"prediction\", \n",
    "                                   metricName=\"r2\")"
   ]
  },
  {
   "cell_type": "code",
   "execution_count": null,
   "id": "e58c9f10-b88e-4935-b63b-3473c628fbd9",
   "metadata": {},
   "outputs": [],
   "source": []
  },
  {
   "cell_type": "markdown",
   "id": "97fcda19-3f54-4575-b0ec-8bb8c2a2ac46",
   "metadata": {},
   "source": [
    "### Linear Regression (Baseline Model)"
   ]
  },
  {
   "cell_type": "code",
   "execution_count": null,
   "id": "7818e21d-3481-4b39-a27b-3c7d7231e0e0",
   "metadata": {},
   "outputs": [],
   "source": [
    "assembler = VectorAssembler(inputCols=features, outputCol=\"features\")\n",
    "df_ml = assembler.transform(df).select(\"features\", target)\n",
    "train_data, test_data = df_ml.randomSplit([0.8, 0.2], seed=2)\n",
    "\n",
    "lr = LinearRegression(featuresCol=\"features\", labelCol=\"fare_amount\")\n",
    "lr_model = lr.fit(train_data)\n",
    "predictions = lr_model.transform(test_data)\n",
    "\n",
    "rmse = evaluator_rmse.evaluate(predictions)\n",
    "mae = evaluator_mae.evaluate(predictions)\n",
    "r2 = evaluator_r2.evaluate(predictions)\n",
    "\n",
    "print(\"Linear Regression:\")\n",
    "print(f\"RMSE: {rmse:.2f}\")\n",
    "print(f\"MAE: {mae:.2f}\")\n",
    "print(f\"R² Score: {r2:.4f}\")"
   ]
  },
  {
   "cell_type": "markdown",
   "id": "3c0cf320-b31f-42fc-a91f-1826c0a1a7cf",
   "metadata": {},
   "source": [
    "### LightGBM Regressor (Final Model)"
   ]
  },
  {
   "cell_type": "markdown",
   "id": "6e917b90-173e-4eb1-900d-ba8235ec7216",
   "metadata": {},
   "source": [
    "#### While testing locally and on subsets of the data, LightGBM consistantly had the most accuracy so this is the model we chose for our final model. "
   ]
  },
  {
   "cell_type": "code",
   "execution_count": 23,
   "id": "f4b23cc6-56a8-4515-9a21-6b71de9cb70b",
   "metadata": {},
   "outputs": [
    {
     "name": "stderr",
     "output_type": "stream",
     "text": [
      "/home/zmosley/.local/lib/python3.11/site-packages/lightgbm/dask.py:549: UserWarning: Parameter n_jobs will be ignored.\n",
      "  _log_warning(f\"Parameter {param_alias} will be ignored.\")\n"
     ]
    },
    {
     "name": "stdout",
     "output_type": "stream",
     "text": [
      "Finding random open ports for workers\n",
      "Done Training\n"
     ]
    }
   ],
   "source": [
    "dask_lgb_model = DaskLGBMRegressor(n_estimators=200,\n",
    "                                   max_depth=10,\n",
    "                                   learning_rate=0.2,\n",
    "                                   verbosity=1)\n",
    "\n",
    "dask_lgb_model.fit(X_train, y_train)\n",
    "\n",
    "# Predictions\n",
    "train_pred = X_train.copy()\n",
    "train_pred[\"prediction\"] = dask_lgb_model.predict(X_train)\n",
    "train_pred[\"fare_amount\"] = y_train\n",
    "train_pred[\"tpep_pickup_datetime\"] = train_[\"tpep_pickup_datetime\"]\n",
    "\n",
    "test_pred = X_test.copy()\n",
    "test_pred[\"prediction\"] = dask_lgb_model.predict(X_test)\n",
    "test_pred[\"fare_amount\"] = y_test\n",
    "test_pred[\"tpep_pickup_datetime\"] = test_[\"tpep_pickup_datetime\"]\n",
    "\n",
    "# Save results as parquets\n",
    "train_pred.to_parquet(\"/expanse/lustre/projects/uci150/zmosley/test_dask_lgb_train_results\", write_index=False, coerce_timestamps=\"us\")\n",
    "test_pred.to_parquet(\"/expanse/lustre/projects/uci150/zmosley/test_dask_lgb_test_results\", write_index=False, coerce_timestamps=\"us\")\n",
    "\n",
    "print(\"Done Training\")"
   ]
  },
  {
   "cell_type": "code",
   "execution_count": 23,
   "id": "3965a3f3-9905-422f-af2f-aed9b4547a44",
   "metadata": {},
   "outputs": [
    {
     "name": "stdout",
     "output_type": "stream",
     "text": [
      "LightGBM Fare Prediction Model saved\n"
     ]
    }
   ],
   "source": [
    "joblib.dump(dask_lgb_model, 'test_19to23_dask_lgb_model.pkl')\n",
    "print(\"LightGBM Fare Prediction Model saved\")"
   ]
  },
  {
   "cell_type": "markdown",
   "id": "3f818888-b3fe-4f2e-ac5f-8ddd2510a433",
   "metadata": {},
   "source": [
    "# **Evaluate Model**\n",
    "\n",
    "### Train / Test performance"
   ]
  },
  {
   "cell_type": "code",
   "execution_count": 24,
   "id": "b655e6cb-b985-40d1-a7cb-83e818f06f30",
   "metadata": {},
   "outputs": [
    {
     "name": "stdout",
     "output_type": "stream",
     "text": [
      "Dask LightGBM Training Performance:\n",
      "  RMSE: 2.14\n",
      "  MAE:  1.20\n",
      "  R²:   0.9477\n",
      "\n",
      "Dask LightGBM Test Performance:\n",
      "  RMSE: 2.14\n",
      "  MAE:  1.20\n",
      "  R²:   0.9477\n"
     ]
    }
   ],
   "source": [
    "df_train_spark = spark.read.parquet(\"/expanse/lustre/projects/uci150/zmosley/test_dask_lgb_train_results\")\n",
    "df_test_spark  = spark.read.parquet(\"/expanse/lustre/projects/uci150/zmosley/test_dask_lgb_test_results\")\n",
    "\n",
    "print(\"Dask LightGBM Training Performance:\")\n",
    "print(f\"  RMSE: {evaluator_rmse.evaluate(df_train_spark):.2f}\")\n",
    "print(f\"  MAE:  {evaluator_mae.evaluate(df_train_spark):.2f}\")\n",
    "print(f\"  R²:   {evaluator_r2.evaluate(df_train_spark):.4f}\")\n",
    "\n",
    "print(\"\\nDask LightGBM Test Performance:\")\n",
    "print(f\"  RMSE: {evaluator_rmse.evaluate(df_test_spark):.2f}\")\n",
    "print(f\"  MAE:  {evaluator_mae.evaluate(df_test_spark):.2f}\")\n",
    "print(f\"  R²:   {evaluator_r2.evaluate(df_test_spark):.4f}\")"
   ]
  },
  {
   "cell_type": "markdown",
   "id": "beed2782-2ab4-4e5d-8ccf-dc0031f2cdb2",
   "metadata": {},
   "source": [
    "### Train / Test Performance by Year"
   ]
  },
  {
   "cell_type": "code",
   "execution_count": 25,
   "id": "9e696c82-fe45-4f9e-a9cf-4cd697fe286d",
   "metadata": {},
   "outputs": [
    {
     "name": "stdout",
     "output_type": "stream",
     "text": [
      "Dask LightGBM Training Performance by Year:\n",
      "  2019: RMSE=1.12, MAE=0.69, R²=0.9821\n",
      "  2020: RMSE=1.06, MAE=0.64, R²=0.9812\n",
      "  2021: RMSE=1.36, MAE=0.78, R²=0.9725\n",
      "  2022: RMSE=1.70, MAE=1.00, R²=0.9628\n",
      "  2023: RMSE=4.33, MAE=3.33, R²=0.8780\n",
      "\n",
      "Dask LightGBM Test Performance by Year:\n",
      "  2019: RMSE=1.12, MAE=0.69, R²=0.9822\n",
      "  2020: RMSE=1.05, MAE=0.63, R²=0.9815\n",
      "  2021: RMSE=1.37, MAE=0.78, R²=0.9722\n",
      "  2022: RMSE=1.70, MAE=1.00, R²=0.9628\n",
      "  2023: RMSE=4.33, MAE=3.33, R²=0.8779\n"
     ]
    }
   ],
   "source": [
    "# Adds year column back \n",
    "df_train_spark = df_train_spark.withColumn(\"year\", year(\"tpep_pickup_datetime\"))\n",
    "df_test_spark = df_test_spark.withColumn(\"year\", year(\"tpep_pickup_datetime\"))\n",
    "\n",
    "# Get year\n",
    "train_years = [row[\"year\"] for row in df_train_spark.select(\"year\").distinct().collect()]\n",
    "test_years = [row[\"year\"] for row in df_test_spark.select(\"year\").distinct().collect()]\n",
    "\n",
    "# Train metrics by year\n",
    "print(\"Dask LightGBM Training Performance by Year:\")\n",
    "for yr in sorted(train_years):\n",
    "    subset = df_train_spark.filter(col(\"year\") == yr)\n",
    "    rmse = evaluator_rmse.evaluate(subset)\n",
    "    mae = evaluator_mae.evaluate(subset)\n",
    "    r2 = evaluator_r2.evaluate(subset)\n",
    "    print(f\"  {yr}: RMSE={rmse:.2f}, MAE={mae:.2f}, R²={r2:.4f}\")\n",
    "\n",
    "# Test metrics by year\n",
    "print(\"\\nDask LightGBM Test Performance by Year:\")\n",
    "for yr in sorted(test_years):\n",
    "    subset = df_test_spark.filter(col(\"year\") == yr)\n",
    "    rmse = evaluator_rmse.evaluate(subset)\n",
    "    mae = evaluator_mae.evaluate(subset)\n",
    "    r2 = evaluator_r2.evaluate(subset)\n",
    "    print(f\"  {yr}: RMSE={rmse:.2f}, MAE={mae:.2f}, R²={r2:.4f}\")\n"
   ]
  },
  {
   "cell_type": "code",
   "execution_count": null,
   "id": "75b18622-c7fd-482d-a12e-ac3bd7ba92ce",
   "metadata": {},
   "outputs": [],
   "source": []
  },
  {
   "cell_type": "markdown",
   "id": "bf54d7fd-38a9-4ba8-a48e-188e8d74049f",
   "metadata": {},
   "source": [
    "### Ground Truth Examples"
   ]
  },
  {
   "cell_type": "code",
   "execution_count": null,
   "id": "33acb428-432a-4584-98e6-b93f3d004cc2",
   "metadata": {},
   "outputs": [],
   "source": [
    "# Randomly sampled train/test examples\n",
    "train_sample = train_pred.sample(frac=0.001, random_state=2).reset_index(drop=True).compute()\n",
    "test_sample = test_pred.sample(frac=0.001, random_state=2).reset_index(drop=True).compute()\n",
    "\n",
    "train_sample[\"split\"] = \"Train\"\n",
    "test_sample[\"split\"] = \"Test\"\n",
    "\n",
    "example_preds = pd.concat([train_sample, test_sample])\n",
    "example_preds = example_preds.round(2)\n",
    "\n",
    "train_out = example_preds.query(\"split == 'Train'\").sample(5, random_state=1)\n",
    "test_out = example_preds.query(\"split == 'Test'\").sample(5, random_state=1)\n",
    "\n",
    "print(\"Train Examples:\")\n",
    "print(train_out[[\"trip_distance\", \"trip_time_minutes\", \"tolls_amount\", \"fare_amount\", \"prediction\", \"split\"]])\n",
    "print(\"\\nTest Examples:\")\n",
    "print(test_out[[\"trip_distance\", \"trip_time_minutes\", \"tolls_amount\", \"fare_amount\", \"prediction\", \"split\"]])"
   ]
  },
  {
   "cell_type": "code",
   "execution_count": null,
   "id": "dd2d9de4-59e3-4290-8618-5743d27e48b2",
   "metadata": {},
   "outputs": [],
   "source": []
  },
  {
   "cell_type": "markdown",
   "id": "be3b3eb5-d325-48a6-8362-792e74d0932b",
   "metadata": {},
   "source": [
    "# **Model Fit**"
   ]
  },
  {
   "cell_type": "markdown",
   "id": "21629fa3-7cb0-4e74-bfbc-7f9af6387b02",
   "metadata": {},
   "source": [
    "### LightGBM Model Residuals"
   ]
  },
  {
   "cell_type": "code",
   "execution_count": null,
   "id": "241b8f9a-1dfe-43a6-837d-6f249dceb468",
   "metadata": {
    "scrolled": true
   },
   "outputs": [],
   "source": [
    "test_pred[\"residual\"] = test_pred[\"fare_amount\"] - test_pred[\"prediction\"]\n",
    "\n",
    "fig, axes = plt.subplots(2, 2, figsize=(20, 16))\n",
    "fig.suptitle(\"Residuals vs Features\", fontsize=18)\n",
    "\n",
    "axes[0, 0].scatter(test_pred[\"trip_distance\"], test_pred[\"residual\"], alpha=0.3)\n",
    "axes[0, 0].axhline(0, color=\"red\")\n",
    "axes[0, 0].set_xlabel(\"Trip Distance\", fontsize=16)\n",
    "axes[0, 0].set_ylabel(\"Residual\", fontsize=16)\n",
    "\n",
    "axes[0, 1].scatter(test_pred[\"trip_time_minutes\"], test_pred[\"residual\"], alpha=0.3)\n",
    "axes[0, 1].axhline(0, color=\"red\")\n",
    "axes[0, 1].set_xlabel(\"Trip Time (minutes)\", fontsize=16)\n",
    "axes[0, 1].set_ylabel(\"Residual\", fontsize=16)\n",
    "\n",
    "axes[1, 0].scatter(test_pred[\"tolls_amount\"], test_pred[\"residual\"], alpha=0.3)\n",
    "axes[1, 0].axhline(0, color=\"red\")\n",
    "axes[1, 0].set_xlabel(\"Tolls Amount\", fontsize=16)\n",
    "axes[1, 0].set_ylabel(\"Residual\", fontsize=16)\n",
    "\n",
    "axes[1, 1].scatter(test_pred[\"hour\"], test_pred[\"residual\"], alpha=0.3)\n",
    "axes[1, 1].axhline(0, color=\"red\")\n",
    "axes[1, 1].set_xlabel(\"Hour\", fontsize=16)\n",
    "axes[1, 1].set_ylabel(\"Residual\", fontsize=16)\n",
    "\n",
    "plt.tight_layout(rect=[0, 0, 1, 0.95])\n",
    "plt.show()"
   ]
  },
  {
   "cell_type": "code",
   "execution_count": null,
   "id": "6a776227-9353-46fb-82a3-7461b154913e",
   "metadata": {},
   "outputs": [],
   "source": []
  },
  {
   "cell_type": "code",
   "execution_count": null,
   "id": "11850d34-c262-4226-8b03-fe9c292b2b0d",
   "metadata": {},
   "outputs": [],
   "source": [
    "spark.stop()"
   ]
  },
  {
   "cell_type": "code",
   "execution_count": null,
   "id": "76fb3b4b-e3f2-457f-96f3-aa16b983b570",
   "metadata": {},
   "outputs": [],
   "source": []
  },
  {
   "cell_type": "code",
   "execution_count": 2,
   "id": "35f967e8-abd4-4fe9-afaa-8936c0c80931",
   "metadata": {},
   "outputs": [],
   "source": [
    "spark = SparkSession.builder \\\n",
    "    .appName(\"NYC Taxi Full Dataset\") \\\n",
    "    .config(\"spark.executor.instances\", \"20\") \\\n",
    "    .config(\"spark.executor.cores\", \"4\") \\\n",
    "    .config(\"spark.executor.memory\", \"10g\") \\\n",
    "    .config(\"spark.driver.memory\", \"40g\") \\\n",
    "    .config(\"spark.driver.cores\", \"4\") \\\n",
    "    .config(\"spark.sql.shuffle.partitions\", \"300\") \\\n",
    "    .config(\"spark.sql.execution.arrow.pyspark.enabled\", \"false\") \\\n",
    "    .getOrCreate()"
   ]
  },
  {
   "cell_type": "code",
   "execution_count": null,
   "id": "f3b80cbc-2ee0-45b7-90e6-efaa93050967",
   "metadata": {},
   "outputs": [],
   "source": []
  },
  {
   "cell_type": "code",
   "execution_count": 3,
   "id": "3e123402-40c4-4e0d-8bd5-6c7685de013a",
   "metadata": {
    "scrolled": true
   },
   "outputs": [],
   "source": [
    "# Load 2024 data\n",
    "base_path = \"/expanse/lustre/projects/uci150/rvasappanavara/shared/nyc_taxi_data/\"\n",
    "file_paths_2024 = sorted(glob(f\"{base_path}/yellow_tripdata_2024-*.parquet\"))\n",
    "\n",
    "dfs_2024 = []\n",
    "for path in file_paths_2024:\n",
    "    df = spark.read.parquet(f\"file://{path}\")\n",
    "    df = df.withColumn(\"airport_fee\", col(\"airport_fee\").cast(\"double\"))\n",
    "    dfs_2024.append(df)\n",
    "\n",
    "raw_df_2024 = dfs_2024[0]\n",
    "for other_df in dfs_2024[1:]:\n",
    "    raw_df_2024 = raw_df_2024.unionByName(other_df)\n",
    "\n",
    "df_24 = raw_df_2024"
   ]
  },
  {
   "cell_type": "code",
   "execution_count": null,
   "id": "3bb54e28-1eb3-49a9-a54e-05c35e17d508",
   "metadata": {},
   "outputs": [],
   "source": []
  },
  {
   "cell_type": "code",
   "execution_count": 4,
   "id": "ee2c0239-aec9-4416-bfab-f1861377ed39",
   "metadata": {},
   "outputs": [],
   "source": [
    "# Removing outliers, keeping fares between $3-$200\n",
    "df_24 = df_24.filter((col(\"fare_amount\") >= 3) & (col(\"fare_amount\") <= 200))\n",
    "\n",
    "# Trip time in minutes\n",
    "df_24 = df_24.withColumn(\"trip_time_minutes\", (unix_timestamp(\"tpep_dropoff_datetime\") - \n",
    "                                         unix_timestamp(\"tpep_pickup_datetime\")) / 60)\n",
    "# Fare per minute\n",
    "df_24 = df_24.withColumn(\"fare_per_min\", col(\"fare_amount\") / col(\"trip_time_minutes\"))\n",
    "# Fare per mile\n",
    "df_24 = df_24.withColumn(\"fare_per_mile\", col(\"fare_amount\") / col(\"trip_distance\"))\n",
    "\n",
    "df_24 = df_24.withColumn(\"hour\", hour(col(\"tpep_pickup_datetime\"))) \\\n",
    "       .withColumn(\"dayofweek\", dayofweek(col(\"tpep_pickup_datetime\")) - 2) \\\n",
    "       .withColumn(\"month\", month(col(\"tpep_pickup_datetime\")))\n",
    "\n",
    "# Filter for 1-5 passengers. 4 or 5 is max allowed by taxi law in NYC\n",
    "df_24 = df_24.withColumn(\"passenger_count\", when(col(\"passenger_count\") < 1, 1)\n",
    "    .when(col(\"passenger_count\") > 5, 5).otherwise(col(\"passenger_count\")))\n",
    "\n",
    "# Filter Trip Distance\n",
    "df_24 = df_24.filter((col(\"trip_distance\") > 0) & (col(\"trip_distance\") <= 35))\n",
    "\n",
    "# Filtering to RatecodeID == 1\n",
    "df_24 = df_24.filter(col(\"RatecodeID\") == 1)\n",
    "\n",
    "# Filter for outlier, allow up to $50 to account for multiple tolls on one trip\n",
    "df_24 = df_24.filter((df_24.tolls_amount >= 0) & (df_24.tolls_amount <= 50))\n",
    "\n",
    "# Filter years to ensure only data from 2019-2023 is used\n",
    "df_24 = df_24.withColumn(\"tpep_pickup_datetime\", to_timestamp(col(\"tpep_pickup_datetime\")))\n",
    "df_24 = df_24.filter((year(\"tpep_pickup_datetime\") >= 2019) & \n",
    "               (year(\"tpep_pickup_datetime\") <= 2023))\n",
    "\n",
    "# Filter extreme outliers for trip_time_minutes and tolls_amount\n",
    "df_24 = df_24.filter((col(\"trip_time_minutes\") > 0) & (col(\"trip_time_minutes\") <= 1500))"
   ]
  },
  {
   "cell_type": "code",
   "execution_count": null,
   "id": "a1a60a3f-f385-45c4-ba74-b834f08691f6",
   "metadata": {},
   "outputs": [],
   "source": []
  },
  {
   "cell_type": "code",
   "execution_count": 5,
   "id": "8aab8610-7518-40e9-b1b2-6986a7522996",
   "metadata": {},
   "outputs": [],
   "source": [
    "model = joblib.load(\"test_19to23_dask_lgb_model.pkl\")\n",
    "\n",
    "ddf_2024 = dd.read_parquet(\"/expanse/lustre/projects/uci150/zmosley/lgb_input_data/\")\n",
    "X_2024 = ddf_2024[model.feature_name_]\n",
    "y_2024 = ddf_2024[\"fare_amount\"]\n",
    "\n",
    "client = Client()"
   ]
  },
  {
   "cell_type": "code",
   "execution_count": null,
   "id": "f49b46ec-20d3-403a-85f2-680645676e3b",
   "metadata": {},
   "outputs": [],
   "source": []
  },
  {
   "cell_type": "code",
   "execution_count": 6,
   "id": "6acdfc22-2e20-49e2-9efa-192811b56345",
   "metadata": {},
   "outputs": [
    {
     "name": "stdout",
     "output_type": "stream",
     "text": [
      "Evaluation on 2024 Data:\n",
      "RMSE: 2.98\n",
      "MAE: 1.88\n",
      "R² Score: 0.9215\n"
     ]
    }
   ],
   "source": [
    "y_pred = model.predict(X_2024)\n",
    "\n",
    "y_pred_local = y_pred.compute()\n",
    "y_true_local = y_2024.compute()\n",
    "\n",
    "rmse = mean_squared_error(y_true_local, y_pred_local, squared=False)\n",
    "mae = mean_absolute_error(y_true_local, y_pred_local)\n",
    "r2 = r2_score(y_trcue_local, y_pred_local)\n",
    "\n",
    "print(f\"Evaluation on 2024 Data:\")\n",
    "print(f\"RMSE: {rmse:.2f}\")\n",
    "print(f\"MAE: {mae:.2f}\")\n",
    "print(f\"R² Score: {r2:.4f}\")\n"
   ]
  },
  {
   "cell_type": "code",
   "execution_count": null,
   "id": "87b1e274-88a4-44d3-ac02-4b308823510a",
   "metadata": {},
   "outputs": [],
   "source": []
  }
 ],
 "metadata": {
  "kernelspec": {
   "display_name": "Python 3 (ipykernel)",
   "language": "python",
   "name": "python3"
  },
  "language_info": {
   "codemirror_mode": {
    "name": "ipython",
    "version": 3
   },
   "file_extension": ".py",
   "mimetype": "text/x-python",
   "name": "python",
   "nbconvert_exporter": "python",
   "pygments_lexer": "ipython3",
   "version": "3.12.7"
  }
 },
 "nbformat": 4,
 "nbformat_minor": 5
}
